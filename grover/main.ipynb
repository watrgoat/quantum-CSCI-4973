{
 "cells": [
  {
   "cell_type": "markdown",
   "metadata": {},
   "source": [
    "# Implementing Grover's Algorithm with Qiskit\n",
    "\n",
    "Grover's algorithm is a quantum search algorithm that efficiently finds a target item in an unsorted database. It works by amplifying the probability of the correct answer through a series of quantum operations.\n",
    "\n",
    "In this example, we will use Grover's algorithm to search for a specific binary string in a database, demonstrating a technique that can be applied to various search problems, including solving optimization tasks and finding specific solutions in large datasets."
   ]
  },
  {
   "cell_type": "code",
   "execution_count": 1,
   "metadata": {},
   "outputs": [],
   "source": [
    "import os\n",
    "from qiskit_ibm_runtime import QiskitRuntimeService\n",
    "\n",
    "# Retrieve the API token from the environment variable\n",
    "api_token = os.environ.get(\"IBM_RPI_TOKEN\")\n",
    "\n",
    "# Initialize the QiskitRuntimeService\n",
    "service = QiskitRuntimeService(channel='ibm_quantum', token=api_token)\n",
    "\n",
    "# Set the backend to ibm_rensselaer\n",
    "backend = service.backend(\"ibm_rensselaer\")"
   ]
  },
  {
   "cell_type": "code",
   "execution_count": 3,
   "metadata": {},
   "outputs": [],
   "source": [
    "from qiskit import QuantumCircuit, transpile, assemble\n",
    "from qiskit.circuit.library import GroverOperator\n",
    "from qiskit.visualization import plot_histogram\n",
    "\n",
    "# Import your database from the file\n",
    "from database import database, target"
   ]
  },
  {
   "cell_type": "code",
   "execution_count": 4,
   "metadata": {},
   "outputs": [],
   "source": [
    "def create_oracle(target):\n",
    "    oracle = QuantumCircuit(len(target))\n",
    "    for qubit, bit in enumerate(target):\n",
    "        if bit == '0':\n",
    "            oracle.x(qubit)\n",
    "    oracle.h(len(target) - 1)\n",
    "    oracle.mcx(list(range(len(target) - 1)), len(target) - 1)  # Multi-controlled Toffoli\n",
    "    oracle.h(len(target) - 1)\n",
    "    for qubit, bit in enumerate(target):\n",
    "        if bit == '0':\n",
    "            oracle.x(qubit)\n",
    "    return oracle"
   ]
  },
  {
   "cell_type": "code",
   "execution_count": 5,
   "metadata": {},
   "outputs": [],
   "source": [
    "# Number of qubits needed\n",
    "n_qubits = len(database[0])\n",
    "\n",
    "# Create a quantum circuit with one additional qubit for the ancilla\n",
    "grover_circuit = QuantumCircuit(n_qubits)\n",
    "\n",
    "# Apply Hadamard gates to all qubits to create a superposition\n",
    "grover_circuit.h(range(n_qubits))\n",
    "\n",
    "# Add the Oracle\n",
    "oracle = create_oracle(target)\n",
    "grover_circuit.compose(oracle, inplace=True)\n",
    "\n",
    "# Apply the Grover diffusion operator (also known as the \"amplification\" operator)\n",
    "grover_op = GroverOperator(oracle)\n",
    "grover_circuit.compose(grover_op, inplace=True)\n",
    "\n",
    "# Add measurement\n",
    "grover_circuit.measure_all()"
   ]
  },
  {
   "cell_type": "code",
   "execution_count": 8,
   "metadata": {},
   "outputs": [
    {
     "ename": "AttributeError",
     "evalue": "'PrimitiveResult' object has no attribute 'quasi_dists'",
     "output_type": "error",
     "traceback": [
      "\u001b[0;31m---------------------------------------------------------------------------\u001b[0m",
      "\u001b[0;31mAttributeError\u001b[0m                            Traceback (most recent call last)",
      "Cell \u001b[0;32mIn[8], line 16\u001b[0m\n\u001b[1;32m     13\u001b[0m     result \u001b[38;5;241m=\u001b[39m job\u001b[38;5;241m.\u001b[39mresult()\n\u001b[1;32m     15\u001b[0m \u001b[38;5;66;03m# Get the results\u001b[39;00m\n\u001b[0;32m---> 16\u001b[0m counts \u001b[38;5;241m=\u001b[39m \u001b[43mresult\u001b[49m\u001b[38;5;241;43m.\u001b[39;49m\u001b[43mquasi_dists\u001b[49m[\u001b[38;5;241m0\u001b[39m]\u001b[38;5;241m.\u001b[39mnearest_probability_distribution()\u001b[38;5;241m.\u001b[39mbinary_probabilities()\n\u001b[1;32m     18\u001b[0m \u001b[38;5;66;03m# Visualize the result\u001b[39;00m\n\u001b[1;32m     19\u001b[0m plot_histogram(counts)\n",
      "\u001b[0;31mAttributeError\u001b[0m: 'PrimitiveResult' object has no attribute 'quasi_dists'"
     ]
    }
   ],
   "source": [
    "from qiskit_ibm_runtime import QiskitRuntimeService, Session, Sampler\n",
    "\n",
    "# Assuming you've already set up your backend and service as before\n",
    "\n",
    "# Transpile the circuit for the chosen backend\n",
    "transpiled_circuit = transpile(grover_circuit, backend=backend)\n",
    "\n",
    "# Use the new Sampler primitive to run the circuit\n",
    "with Session(backend=backend) as session:\n",
    "    sampler = Sampler()\n",
    "    # Run the circuit using the sampler\n",
    "    job = sampler.run(pubs=[transpiled_circuit], shots=1024)\n",
    "    result = job.result()\n",
    "\n"
   ]
  },
  {
   "cell_type": "code",
   "execution_count": 17,
   "metadata": {},
   "outputs": [
    {
     "name": "stdout",
     "output_type": "stream",
     "text": [
      "[PubResult(data=DataBin(meas=BitArray(<shape=(), num_shots=1024, num_bits=3>)), metadata={'circuit_metadata': {}})]\n"
     ]
    }
   ],
   "source": [
    "# Inspect the contents of _pub_results\n",
    "print(result._pub_results)\n"
   ]
  },
  {
   "cell_type": "code",
   "execution_count": 18,
   "metadata": {},
   "outputs": [
    {
     "name": "stdout",
     "output_type": "stream",
     "text": [
      "PubResult(data=DataBin(meas=BitArray(<shape=(), num_shots=1024, num_bits=3>)), metadata={'circuit_metadata': {}})\n"
     ]
    }
   ],
   "source": [
    "# Assuming _pub_results is a list of results, inspect the first item\n",
    "pub_result = result._pub_results[0]\n",
    "print(pub_result)  # See what this contains\n"
   ]
  },
  {
   "cell_type": "code",
   "execution_count": 22,
   "metadata": {},
   "outputs": [],
   "source": [
    "# Access the measurement data\n",
    "bit_array = pub_result.data.meas\n",
    "\n",
    "# Convert the BitArray to counts\n",
    "# Get the counts as a dictionary\n",
    "counts = bit_array.get_counts()  # or bit_array.get_int_counts() for integer keys\n"
   ]
  },
  {
   "cell_type": "code",
   "execution_count": 23,
   "metadata": {},
   "outputs": [
    {
     "data": {
      "image/png": "[encoded data removed]",
      "text/plain": [
       "<Figure size 640x480 with 1 Axes>"
      ]
     },
     "execution_count": 23,
     "metadata": {},
     "output_type": "execute_result"
    }
   ],
   "source": [
    "# Visualize the result\n",
    "plot_histogram(counts)\n"
   ]
  }
 ],
 "metadata": {
  "kernelspec": {
   "display_name": "venv",
   "language": "python",
   "name": "python3"
  },
  "language_info": {
   "codemirror_mode": {
    "name": "ipython",
    "version": 3
   },
   "file_extension": ".py",
   "mimetype": "text/x-python",
   "name": "python",
   "nbconvert_exporter": "python",
   "pygments_lexer": "ipython3",
   "version": "3.12.5"
  }
 },
 "nbformat": 4,
 "nbformat_minor": 2
}
