{
 "cells": [
  {
   "cell_type": "code",
   "execution_count": 5,
   "metadata": {},
   "outputs": [
    {
     "name": "stdout",
     "output_type": "stream",
     "text": [
      "Successfully connected to the backend: ibm_rensselaer\n"
     ]
    }
   ],
   "source": [
    "import os\n",
    "from qiskit_ibm_runtime import QiskitRuntimeService\n",
    "\n",
    "# Retrieve the API token from the environment variable\n",
    "api_token = os.environ.get(\"TEST\")\n",
    "\n",
    "# Initialize the QiskitRuntimeService\n",
    "service = QiskitRuntimeService(channel='ibm_quantum', token=api_token)\n",
    "\n",
    "# Set the backend to ibm_rensselaer\n",
    "backend = service.backend(\"ibm_rensselaer\")"
   ]
  },
  {
   "cell_type": "code",
   "execution_count": null,
   "metadata": {},
   "outputs": [],
   "source": [
    "from qiskit import QuantumCircuit\n",
    "from qiskit.quantum_info import SparsePauliOp\n",
    "from qiskit.transpiler.preset_passmanagers import generate_preset_pass_manager\n",
    "from qiskit_ibm_runtime import EstimatorV2 as Estimator\n",
    " \n",
    "# Create a new circuit with two qubits\n",
    "qc = QuantumCircuit(2)\n",
    " \n",
    "# Add a Hadamard gate to qubit 0\n",
    "qc.h(0)\n",
    " \n",
    "# Perform a controlled-X gate on qubit 1, controlled by qubit 0\n",
    "qc.cx(0, 1)\n",
    " \n",
    "# Return a drawing of the circuit using MatPlotLib (\"mpl\"). This is the\n",
    "# last line of the cell, so the drawing appears in the cell output.\n",
    "# Remove the \"mpl\" argument to get a text drawing.\n",
    "qc.draw(\"mpl\")"
   ]
  },
  {
   "cell_type": "code",
   "execution_count": null,
   "metadata": {},
   "outputs": [],
   "source": [
    "# Set up six different observables.\n",
    "from qiskit.quantum_info import SparsePauliOp\n",
    " \n",
    "observables_labels = [\"IZ\", \"IX\", \"ZI\", \"XI\", \"ZZ\", \"XX\"]\n",
    "observables = [SparsePauliOp(label) for label in observables_labels]"
   ]
  }
 ],
 "metadata": {
  "kernelspec": {
   "display_name": "venv",
   "language": "python",
   "name": "python3"
  },
  "language_info": {
   "codemirror_mode": {
    "name": "ipython",
    "version": 3
   },
   "file_extension": ".py",
   "mimetype": "text/x-python",
   "name": "python",
   "nbconvert_exporter": "python",
   "pygments_lexer": "ipython3",
   "version": "3.12.5"
  }
 },
 "nbformat": 4,
 "nbformat_minor": 2
}
